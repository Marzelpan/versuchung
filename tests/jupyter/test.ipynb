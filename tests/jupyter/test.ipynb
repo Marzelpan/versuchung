{
 "cells": [
  {
   "cell_type": "code",
   "execution_count": 21,
   "id": "0accbae1",
   "metadata": {},
   "outputs": [],
   "source": [
    "%reload_ext autoreload\n",
    "%autoreload 2\n",
    "import sys\n",
    "import os\n",
    "\n",
    "p = os.path.dirname(os.path.realpath(\"./dummy\"))\n",
    "p = os.path.join(p, \"..\", \"..\", \"src\")\n",
    "sys.path.append(p)\n",
    "\n",
    "from versuchung.jupyter import JupyterExperiment\n",
    "from versuchung.types import String\n",
    "from versuchung.tex import DatarefDict"
   ]
  },
  {
   "cell_type": "code",
   "execution_count": 22,
   "id": "ec7576f9",
   "metadata": {},
   "outputs": [],
   "source": [
    "experiment = JupyterExperiment(\n",
    "    title=\"Foobar\",\n",
    "    inputs=dict(\n",
    "        arg0 = String(\"foobar\")\n",
    "    ),\n",
    "    outputs=dict(\n",
    "        dref = DatarefDict(\"data.dref\")\n",
    "    )\n",
    ")\n",
    "experiment.begin(globals=globals())"
   ]
  },
  {
   "cell_type": "code",
   "execution_count": 23,
   "id": "b7812b82",
   "metadata": {},
   "outputs": [
    {
     "name": "stdout",
     "output_type": "stream",
     "text": [
      "Happens After foobar\n"
     ]
    }
   ],
   "source": [
    "print(\"Happens After\", experiment.arg0)\n",
    "experiment.dref['a'] = experiment.arg0\n",
    "experiment.dref.flush()"
   ]
  },
  {
   "cell_type": "code",
   "execution_count": 24,
   "id": "899eb333",
   "metadata": {},
   "outputs": [],
   "source": [
    "experiment.end()"
   ]
  }
 ],
 "metadata": {
  "kernelspec": {
   "display_name": "Python 3 (ipykernel)",
   "language": "python",
   "name": "python3"
  },
  "language_info": {
   "codemirror_mode": {
    "name": "ipython",
    "version": 3
   },
   "file_extension": ".py",
   "mimetype": "text/x-python",
   "name": "python",
   "nbconvert_exporter": "python",
   "pygments_lexer": "ipython3",
   "version": "3.9.10"
  }
 },
 "nbformat": 4,
 "nbformat_minor": 5
}
